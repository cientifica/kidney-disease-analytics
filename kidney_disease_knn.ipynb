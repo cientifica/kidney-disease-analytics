{
  "nbformat": 4,
  "nbformat_minor": 0,
  "metadata": {
    "colab": {
      "name": "kidney disease knn.ipynb",
      "provenance": []
    },
    "kernelspec": {
      "name": "python3",
      "display_name": "Python 3"
    },
    "language_info": {
      "name": "python"
    }
  },
  "cells": [
    {
      "cell_type": "markdown",
      "source": [
        "#ML K Nearest Neighbors - Problem Statement\n",
        "In this micro-project, we'll use the KNN algorithm to classify instances from a fake dataset into one or the other target class."
      ],
      "metadata": {
        "id": "XZIkfMIAHLJt"
      }
    },
    {
      "cell_type": "code",
      "execution_count": null,
      "metadata": {
        "id": "8AGK_N7wAGrf"
      },
      "outputs": [],
      "source": [
        "url = \"https://www.kaggle.com/datasets/mahmoudlimam/preprocessed-chronic-kidney-disease-dataset\" #@param {type:\"string\"}\n"
      ]
    },
    {
      "cell_type": "code",
      "source": [
        "import pandas as pd\n",
        "import numpy as np\n",
        "import seaborn as sns\n",
        "import matplotlib.pyplot as plt\n",
        "\n",
        "%matplotlib inline"
      ],
      "metadata": {
        "id": "QdGWq-5ZBTsW"
      },
      "execution_count": null,
      "outputs": []
    },
    {
      "cell_type": "code",
      "source": [
        "## Data\n",
        "df = pd.read_csv('CKD_Preprocessed.csv')\n",
        "df.head()"
      ],
      "metadata": {
        "colab": {
          "base_uri": "https://localhost:8080/",
          "height": 352
        },
        "id": "H3B7TCF-BYaO",
        "outputId": "4518eb2e-e2a9-4472-bb12-6992383548ff"
      },
      "execution_count": null,
      "outputs": [
        {
          "output_type": "execute_result",
          "data": {
            "text/plain": [
              "   Age (yrs)  Blood Pressure (mm/Hg)  Specific Gravity  Albumin  Sugar  \\\n",
              "0       48.0                    80.0             1.020      1.0    0.0   \n",
              "1        7.0                    50.0             1.020      4.0    0.0   \n",
              "2       62.0                    80.0             1.010      2.0    3.0   \n",
              "3       48.0                    70.0             1.005      4.0    0.0   \n",
              "4       51.0                    80.0             1.010      2.0    0.0   \n",
              "\n",
              "   Blood Glucose Random (mgs/dL)  Blood Urea (mgs/dL)  \\\n",
              "0                     121.000000                 36.0   \n",
              "1                      90.316581                 18.0   \n",
              "2                     423.000000                 53.0   \n",
              "3                     117.000000                 56.0   \n",
              "4                     106.000000                 26.0   \n",
              "\n",
              "   Serum Creatinine (mgs/dL)  Sodium (mEq/L)  Potassium (mEq/L)  ...  \\\n",
              "0                        1.2           136.0                4.7  ...   \n",
              "1                        0.8           140.0                4.0  ...   \n",
              "2                        1.8           135.0                4.8  ...   \n",
              "3                        3.8           111.0                2.5  ...   \n",
              "4                        1.4           140.0                4.0  ...   \n",
              "\n",
              "   Pus Cells: normal  Pus Cell Clumps: present  Bacteria: present  \\\n",
              "0                1.0                       0.0                0.0   \n",
              "1                1.0                       0.0                0.0   \n",
              "2                1.0                       0.0                0.0   \n",
              "3                0.0                       1.0                0.0   \n",
              "4                1.0                       0.0                0.0   \n",
              "\n",
              "   Hypertension: yes  Diabetes Mellitus: yes  Coronary Artery Disease: yes  \\\n",
              "0                1.0                     1.0                           0.0   \n",
              "1                0.0                     0.0                           0.0   \n",
              "2                0.0                     1.0                           0.0   \n",
              "3                1.0                     0.0                           0.0   \n",
              "4                0.0                     0.0                           0.0   \n",
              "\n",
              "   Appetite: poor  Pedal Edema: yes  Anemia: yes  Chronic Kidney Disease: yes  \n",
              "0             0.0               0.0          0.0                          1.0  \n",
              "1             0.0               0.0          0.0                          1.0  \n",
              "2             1.0               0.0          1.0                          1.0  \n",
              "3             1.0               1.0          1.0                          1.0  \n",
              "4             0.0               0.0          0.0                          1.0  \n",
              "\n",
              "[5 rows x 25 columns]"
            ],
            "text/html": [
              "\n",
              "  <div id=\"df-8109fe55-e459-4add-969c-65ccb9ff16d6\">\n",
              "    <div class=\"colab-df-container\">\n",
              "      <div>\n",
              "<style scoped>\n",
              "    .dataframe tbody tr th:only-of-type {\n",
              "        vertical-align: middle;\n",
              "    }\n",
              "\n",
              "    .dataframe tbody tr th {\n",
              "        vertical-align: top;\n",
              "    }\n",
              "\n",
              "    .dataframe thead th {\n",
              "        text-align: right;\n",
              "    }\n",
              "</style>\n",
              "<table border=\"1\" class=\"dataframe\">\n",
              "  <thead>\n",
              "    <tr style=\"text-align: right;\">\n",
              "      <th></th>\n",
              "      <th>Age (yrs)</th>\n",
              "      <th>Blood Pressure (mm/Hg)</th>\n",
              "      <th>Specific Gravity</th>\n",
              "      <th>Albumin</th>\n",
              "      <th>Sugar</th>\n",
              "      <th>Blood Glucose Random (mgs/dL)</th>\n",
              "      <th>Blood Urea (mgs/dL)</th>\n",
              "      <th>Serum Creatinine (mgs/dL)</th>\n",
              "      <th>Sodium (mEq/L)</th>\n",
              "      <th>Potassium (mEq/L)</th>\n",
              "      <th>...</th>\n",
              "      <th>Pus Cells: normal</th>\n",
              "      <th>Pus Cell Clumps: present</th>\n",
              "      <th>Bacteria: present</th>\n",
              "      <th>Hypertension: yes</th>\n",
              "      <th>Diabetes Mellitus: yes</th>\n",
              "      <th>Coronary Artery Disease: yes</th>\n",
              "      <th>Appetite: poor</th>\n",
              "      <th>Pedal Edema: yes</th>\n",
              "      <th>Anemia: yes</th>\n",
              "      <th>Chronic Kidney Disease: yes</th>\n",
              "    </tr>\n",
              "  </thead>\n",
              "  <tbody>\n",
              "    <tr>\n",
              "      <th>0</th>\n",
              "      <td>48.0</td>\n",
              "      <td>80.0</td>\n",
              "      <td>1.020</td>\n",
              "      <td>1.0</td>\n",
              "      <td>0.0</td>\n",
              "      <td>121.000000</td>\n",
              "      <td>36.0</td>\n",
              "      <td>1.2</td>\n",
              "      <td>136.0</td>\n",
              "      <td>4.7</td>\n",
              "      <td>...</td>\n",
              "      <td>1.0</td>\n",
              "      <td>0.0</td>\n",
              "      <td>0.0</td>\n",
              "      <td>1.0</td>\n",
              "      <td>1.0</td>\n",
              "      <td>0.0</td>\n",
              "      <td>0.0</td>\n",
              "      <td>0.0</td>\n",
              "      <td>0.0</td>\n",
              "      <td>1.0</td>\n",
              "    </tr>\n",
              "    <tr>\n",
              "      <th>1</th>\n",
              "      <td>7.0</td>\n",
              "      <td>50.0</td>\n",
              "      <td>1.020</td>\n",
              "      <td>4.0</td>\n",
              "      <td>0.0</td>\n",
              "      <td>90.316581</td>\n",
              "      <td>18.0</td>\n",
              "      <td>0.8</td>\n",
              "      <td>140.0</td>\n",
              "      <td>4.0</td>\n",
              "      <td>...</td>\n",
              "      <td>1.0</td>\n",
              "      <td>0.0</td>\n",
              "      <td>0.0</td>\n",
              "      <td>0.0</td>\n",
              "      <td>0.0</td>\n",
              "      <td>0.0</td>\n",
              "      <td>0.0</td>\n",
              "      <td>0.0</td>\n",
              "      <td>0.0</td>\n",
              "      <td>1.0</td>\n",
              "    </tr>\n",
              "    <tr>\n",
              "      <th>2</th>\n",
              "      <td>62.0</td>\n",
              "      <td>80.0</td>\n",
              "      <td>1.010</td>\n",
              "      <td>2.0</td>\n",
              "      <td>3.0</td>\n",
              "      <td>423.000000</td>\n",
              "      <td>53.0</td>\n",
              "      <td>1.8</td>\n",
              "      <td>135.0</td>\n",
              "      <td>4.8</td>\n",
              "      <td>...</td>\n",
              "      <td>1.0</td>\n",
              "      <td>0.0</td>\n",
              "      <td>0.0</td>\n",
              "      <td>0.0</td>\n",
              "      <td>1.0</td>\n",
              "      <td>0.0</td>\n",
              "      <td>1.0</td>\n",
              "      <td>0.0</td>\n",
              "      <td>1.0</td>\n",
              "      <td>1.0</td>\n",
              "    </tr>\n",
              "    <tr>\n",
              "      <th>3</th>\n",
              "      <td>48.0</td>\n",
              "      <td>70.0</td>\n",
              "      <td>1.005</td>\n",
              "      <td>4.0</td>\n",
              "      <td>0.0</td>\n",
              "      <td>117.000000</td>\n",
              "      <td>56.0</td>\n",
              "      <td>3.8</td>\n",
              "      <td>111.0</td>\n",
              "      <td>2.5</td>\n",
              "      <td>...</td>\n",
              "      <td>0.0</td>\n",
              "      <td>1.0</td>\n",
              "      <td>0.0</td>\n",
              "      <td>1.0</td>\n",
              "      <td>0.0</td>\n",
              "      <td>0.0</td>\n",
              "      <td>1.0</td>\n",
              "      <td>1.0</td>\n",
              "      <td>1.0</td>\n",
              "      <td>1.0</td>\n",
              "    </tr>\n",
              "    <tr>\n",
              "      <th>4</th>\n",
              "      <td>51.0</td>\n",
              "      <td>80.0</td>\n",
              "      <td>1.010</td>\n",
              "      <td>2.0</td>\n",
              "      <td>0.0</td>\n",
              "      <td>106.000000</td>\n",
              "      <td>26.0</td>\n",
              "      <td>1.4</td>\n",
              "      <td>140.0</td>\n",
              "      <td>4.0</td>\n",
              "      <td>...</td>\n",
              "      <td>1.0</td>\n",
              "      <td>0.0</td>\n",
              "      <td>0.0</td>\n",
              "      <td>0.0</td>\n",
              "      <td>0.0</td>\n",
              "      <td>0.0</td>\n",
              "      <td>0.0</td>\n",
              "      <td>0.0</td>\n",
              "      <td>0.0</td>\n",
              "      <td>1.0</td>\n",
              "    </tr>\n",
              "  </tbody>\n",
              "</table>\n",
              "<p>5 rows × 25 columns</p>\n",
              "</div>\n",
              "      <button class=\"colab-df-convert\" onclick=\"convertToInteractive('df-8109fe55-e459-4add-969c-65ccb9ff16d6')\"\n",
              "              title=\"Convert this dataframe to an interactive table.\"\n",
              "              style=\"display:none;\">\n",
              "        \n",
              "  <svg xmlns=\"http://www.w3.org/2000/svg\" height=\"24px\"viewBox=\"0 0 24 24\"\n",
              "       width=\"24px\">\n",
              "    <path d=\"M0 0h24v24H0V0z\" fill=\"none\"/>\n",
              "    <path d=\"M18.56 5.44l.94 2.06.94-2.06 2.06-.94-2.06-.94-.94-2.06-.94 2.06-2.06.94zm-11 1L8.5 8.5l.94-2.06 2.06-.94-2.06-.94L8.5 2.5l-.94 2.06-2.06.94zm10 10l.94 2.06.94-2.06 2.06-.94-2.06-.94-.94-2.06-.94 2.06-2.06.94z\"/><path d=\"M17.41 7.96l-1.37-1.37c-.4-.4-.92-.59-1.43-.59-.52 0-1.04.2-1.43.59L10.3 9.45l-7.72 7.72c-.78.78-.78 2.05 0 2.83L4 21.41c.39.39.9.59 1.41.59.51 0 1.02-.2 1.41-.59l7.78-7.78 2.81-2.81c.8-.78.8-2.07 0-2.86zM5.41 20L4 18.59l7.72-7.72 1.47 1.35L5.41 20z\"/>\n",
              "  </svg>\n",
              "      </button>\n",
              "      \n",
              "  <style>\n",
              "    .colab-df-container {\n",
              "      display:flex;\n",
              "      flex-wrap:wrap;\n",
              "      gap: 12px;\n",
              "    }\n",
              "\n",
              "    .colab-df-convert {\n",
              "      background-color: #E8F0FE;\n",
              "      border: none;\n",
              "      border-radius: 50%;\n",
              "      cursor: pointer;\n",
              "      display: none;\n",
              "      fill: #1967D2;\n",
              "      height: 32px;\n",
              "      padding: 0 0 0 0;\n",
              "      width: 32px;\n",
              "    }\n",
              "\n",
              "    .colab-df-convert:hover {\n",
              "      background-color: #E2EBFA;\n",
              "      box-shadow: 0px 1px 2px rgba(60, 64, 67, 0.3), 0px 1px 3px 1px rgba(60, 64, 67, 0.15);\n",
              "      fill: #174EA6;\n",
              "    }\n",
              "\n",
              "    [theme=dark] .colab-df-convert {\n",
              "      background-color: #3B4455;\n",
              "      fill: #D2E3FC;\n",
              "    }\n",
              "\n",
              "    [theme=dark] .colab-df-convert:hover {\n",
              "      background-color: #434B5C;\n",
              "      box-shadow: 0px 1px 3px 1px rgba(0, 0, 0, 0.15);\n",
              "      filter: drop-shadow(0px 1px 2px rgba(0, 0, 0, 0.3));\n",
              "      fill: #FFFFFF;\n",
              "    }\n",
              "  </style>\n",
              "\n",
              "      <script>\n",
              "        const buttonEl =\n",
              "          document.querySelector('#df-8109fe55-e459-4add-969c-65ccb9ff16d6 button.colab-df-convert');\n",
              "        buttonEl.style.display =\n",
              "          google.colab.kernel.accessAllowed ? 'block' : 'none';\n",
              "\n",
              "        async function convertToInteractive(key) {\n",
              "          const element = document.querySelector('#df-8109fe55-e459-4add-969c-65ccb9ff16d6');\n",
              "          const dataTable =\n",
              "            await google.colab.kernel.invokeFunction('convertToInteractive',\n",
              "                                                     [key], {});\n",
              "          if (!dataTable) return;\n",
              "\n",
              "          const docLinkHtml = 'Like what you see? Visit the ' +\n",
              "            '<a target=\"_blank\" href=https://colab.research.google.com/notebooks/data_table.ipynb>data table notebook</a>'\n",
              "            + ' to learn more about interactive tables.';\n",
              "          element.innerHTML = '';\n",
              "          dataTable['output_type'] = 'display_data';\n",
              "          await google.colab.output.renderOutput(dataTable, element);\n",
              "          const docLink = document.createElement('div');\n",
              "          docLink.innerHTML = docLinkHtml;\n",
              "          element.appendChild(docLink);\n",
              "        }\n",
              "      </script>\n",
              "    </div>\n",
              "  </div>\n",
              "  "
            ]
          },
          "metadata": {},
          "execution_count": 2
        }
      ]
    },
    {
      "cell_type": "markdown",
      "source": [
        "#Standardizing the Variables\n",
        "Because of the type of data we're dealing with, it's important to standardize the variables before training our model. Skewed distribution of variables makes it harder for our model to deal with it."
      ],
      "metadata": {
        "id": "kYk9ssrGHEZS"
      }
    },
    {
      "cell_type": "code",
      "source": [
        "from sklearn.preprocessing import StandardScaler\n",
        "\n",
        "scaler = StandardScaler()\n",
        "df.columns"
      ],
      "metadata": {
        "colab": {
          "base_uri": "https://localhost:8080/"
        },
        "id": "gICzFWHgBni_",
        "outputId": "7ea076f2-a35d-416b-d512-c23c873f9282"
      },
      "execution_count": null,
      "outputs": [
        {
          "output_type": "execute_result",
          "data": {
            "text/plain": [
              "Index(['Age (yrs)', 'Blood Pressure (mm/Hg)', 'Specific Gravity', 'Albumin',\n",
              "       'Sugar', 'Blood Glucose Random (mgs/dL)', 'Blood Urea (mgs/dL)',\n",
              "       'Serum Creatinine (mgs/dL)', 'Sodium (mEq/L)', 'Potassium (mEq/L)',\n",
              "       'Hemoglobin (gms)', 'Packed Cell Volume',\n",
              "       'White Blood Cells (cells/cmm)', 'Red Blood Cells (millions/cmm)',\n",
              "       'Red Blood Cells: normal', 'Pus Cells: normal',\n",
              "       'Pus Cell Clumps: present', 'Bacteria: present', 'Hypertension: yes',\n",
              "       'Diabetes Mellitus: yes', 'Coronary Artery Disease: yes',\n",
              "       'Appetite: poor', 'Pedal Edema: yes', 'Anemia: yes',\n",
              "       'Chronic Kidney Disease: yes'],\n",
              "      dtype='object')"
            ]
          },
          "metadata": {},
          "execution_count": 3
        }
      ]
    },
    {
      "cell_type": "code",
      "source": [
        "scaler.fit(df.drop('Chronic Kidney Disease: yes',axis=1))"
      ],
      "metadata": {
        "colab": {
          "base_uri": "https://localhost:8080/"
        },
        "id": "9kWt8GaWBv9U",
        "outputId": "779c7e6b-ca40-47f4-88bc-d62098cb2595"
      },
      "execution_count": null,
      "outputs": [
        {
          "output_type": "execute_result",
          "data": {
            "text/plain": [
              "StandardScaler()"
            ]
          },
          "metadata": {},
          "execution_count": 4
        }
      ]
    },
    {
      "cell_type": "code",
      "source": [
        "# Now we'll use the .transform() method to transform the features to a scaled version.\n",
        "scaled_feats = scaler.transform(df.drop('Chronic Kidney Disease: yes',axis=1))"
      ],
      "metadata": {
        "id": "xTSVNkqeB75G"
      },
      "execution_count": null,
      "outputs": []
    },
    {
      "cell_type": "code",
      "source": [
        "#Converting the scaled features to a dataframe\n",
        "\n",
        "scaled_df = pd.DataFrame(scaled_feats)\n",
        "scaled_df.columns =['Age (yrs)', 'Blood Pressure (mm/Hg)', 'Specific Gravity', 'Albumin', 'Sugar', 'Blood Glucose Random (mgs/dL)', 'Blood Urea (mgs/dL)', 'Serum Creatinine (mgs/dL)', 'Sodium (mEq/L)',\n",
        "       'Potassium (mEq/L)','Hemoglobin (gms)','Packed Cell Volume','White Blood Cells (cells/cmm)','Red Blood Cells (millions/cmm)','Red Blood Cells: normal','Pus Cells: normal','Pus Cell Clumps: present'\n",
        "       ,'Bacteria: present','Hypertension: yes','Diabetes Mellitus: yes','Coronary Artery Disease: yes','Appetite: poor','Pedal Edema: yes','Anemia: yes']\n",
        "scaled_df.head()"
      ],
      "metadata": {
        "colab": {
          "base_uri": "https://localhost:8080/",
          "height": 352
        },
        "id": "bRz3Tqx4CHF1",
        "outputId": "a2bbf69e-1287-4528-9cc1-1577fd58097c"
      },
      "execution_count": null,
      "outputs": [
        {
          "output_type": "execute_result",
          "data": {
            "text/plain": [
              "   Age (yrs)  Blood Pressure (mm/Hg)  Specific Gravity   Albumin     Sugar  \\\n",
              "0  -0.210976                0.272538          0.456253  0.049010 -0.380269   \n",
              "1  -2.619695               -1.937231          0.456253  2.339065 -0.380269   \n",
              "2   0.611514                0.272538         -1.332593  0.812362  2.507853   \n",
              "3  -0.210976               -0.464051         -2.227017  2.339065 -0.380269   \n",
              "4  -0.034728                0.272538         -1.332593  0.812362 -0.380269   \n",
              "\n",
              "   Blood Glucose Random (mgs/dL)  Blood Urea (mgs/dL)  \\\n",
              "0                      -0.327617            -0.418261   \n",
              "1                      -0.729618            -0.780098   \n",
              "2                       3.629061            -0.076526   \n",
              "3                      -0.380023            -0.016220   \n",
              "4                      -0.524141            -0.619282   \n",
              "\n",
              "   Serum Creatinine (mgs/dL)  Sodium (mEq/L)  Potassium (mEq/L)  ...  \\\n",
              "0                  -0.324133       -0.149852           0.046250  ...   \n",
              "1                  -0.395257        0.282042          -0.201441  ...   \n",
              "2                  -0.217447       -0.257826           0.081634  ...   \n",
              "3                   0.138172       -2.849192          -0.732208  ...   \n",
              "4                  -0.288571        0.282042          -0.201441  ...   \n",
              "\n",
              "   Red Blood Cells: normal  Pus Cells: normal  Pus Cell Clumps: present  \\\n",
              "0                  0.45257                0.5                 -0.342518   \n",
              "1                  0.45257                0.5                 -0.342518   \n",
              "2                  0.45257                0.5                 -0.342518   \n",
              "3                  0.45257               -2.0                  2.919556   \n",
              "4                  0.45257                0.5                 -0.342518   \n",
              "\n",
              "   Bacteria: present  Hypertension: yes  Diabetes Mellitus: yes  \\\n",
              "0          -0.241249           1.311903                1.385535   \n",
              "1          -0.241249          -0.762252               -0.721743   \n",
              "2          -0.241249          -0.762252                1.385535   \n",
              "3          -0.241249           1.311903               -0.721743   \n",
              "4          -0.241249          -0.762252               -0.721743   \n",
              "\n",
              "   Coronary Artery Disease: yes  Appetite: poor  Pedal Edema: yes  Anemia: yes  \n",
              "0                     -0.304789       -0.507801         -0.484322    -0.420084  \n",
              "1                     -0.304789       -0.507801         -0.484322    -0.420084  \n",
              "2                     -0.304789        1.969276         -0.484322     2.380476  \n",
              "3                     -0.304789        1.969276          2.064742     2.380476  \n",
              "4                     -0.304789       -0.507801         -0.484322    -0.420084  \n",
              "\n",
              "[5 rows x 24 columns]"
            ],
            "text/html": [
              "\n",
              "  <div id=\"df-3aba3aea-5286-4514-9cb2-72855c92bfaf\">\n",
              "    <div class=\"colab-df-container\">\n",
              "      <div>\n",
              "<style scoped>\n",
              "    .dataframe tbody tr th:only-of-type {\n",
              "        vertical-align: middle;\n",
              "    }\n",
              "\n",
              "    .dataframe tbody tr th {\n",
              "        vertical-align: top;\n",
              "    }\n",
              "\n",
              "    .dataframe thead th {\n",
              "        text-align: right;\n",
              "    }\n",
              "</style>\n",
              "<table border=\"1\" class=\"dataframe\">\n",
              "  <thead>\n",
              "    <tr style=\"text-align: right;\">\n",
              "      <th></th>\n",
              "      <th>Age (yrs)</th>\n",
              "      <th>Blood Pressure (mm/Hg)</th>\n",
              "      <th>Specific Gravity</th>\n",
              "      <th>Albumin</th>\n",
              "      <th>Sugar</th>\n",
              "      <th>Blood Glucose Random (mgs/dL)</th>\n",
              "      <th>Blood Urea (mgs/dL)</th>\n",
              "      <th>Serum Creatinine (mgs/dL)</th>\n",
              "      <th>Sodium (mEq/L)</th>\n",
              "      <th>Potassium (mEq/L)</th>\n",
              "      <th>...</th>\n",
              "      <th>Red Blood Cells: normal</th>\n",
              "      <th>Pus Cells: normal</th>\n",
              "      <th>Pus Cell Clumps: present</th>\n",
              "      <th>Bacteria: present</th>\n",
              "      <th>Hypertension: yes</th>\n",
              "      <th>Diabetes Mellitus: yes</th>\n",
              "      <th>Coronary Artery Disease: yes</th>\n",
              "      <th>Appetite: poor</th>\n",
              "      <th>Pedal Edema: yes</th>\n",
              "      <th>Anemia: yes</th>\n",
              "    </tr>\n",
              "  </thead>\n",
              "  <tbody>\n",
              "    <tr>\n",
              "      <th>0</th>\n",
              "      <td>-0.210976</td>\n",
              "      <td>0.272538</td>\n",
              "      <td>0.456253</td>\n",
              "      <td>0.049010</td>\n",
              "      <td>-0.380269</td>\n",
              "      <td>-0.327617</td>\n",
              "      <td>-0.418261</td>\n",
              "      <td>-0.324133</td>\n",
              "      <td>-0.149852</td>\n",
              "      <td>0.046250</td>\n",
              "      <td>...</td>\n",
              "      <td>0.45257</td>\n",
              "      <td>0.5</td>\n",
              "      <td>-0.342518</td>\n",
              "      <td>-0.241249</td>\n",
              "      <td>1.311903</td>\n",
              "      <td>1.385535</td>\n",
              "      <td>-0.304789</td>\n",
              "      <td>-0.507801</td>\n",
              "      <td>-0.484322</td>\n",
              "      <td>-0.420084</td>\n",
              "    </tr>\n",
              "    <tr>\n",
              "      <th>1</th>\n",
              "      <td>-2.619695</td>\n",
              "      <td>-1.937231</td>\n",
              "      <td>0.456253</td>\n",
              "      <td>2.339065</td>\n",
              "      <td>-0.380269</td>\n",
              "      <td>-0.729618</td>\n",
              "      <td>-0.780098</td>\n",
              "      <td>-0.395257</td>\n",
              "      <td>0.282042</td>\n",
              "      <td>-0.201441</td>\n",
              "      <td>...</td>\n",
              "      <td>0.45257</td>\n",
              "      <td>0.5</td>\n",
              "      <td>-0.342518</td>\n",
              "      <td>-0.241249</td>\n",
              "      <td>-0.762252</td>\n",
              "      <td>-0.721743</td>\n",
              "      <td>-0.304789</td>\n",
              "      <td>-0.507801</td>\n",
              "      <td>-0.484322</td>\n",
              "      <td>-0.420084</td>\n",
              "    </tr>\n",
              "    <tr>\n",
              "      <th>2</th>\n",
              "      <td>0.611514</td>\n",
              "      <td>0.272538</td>\n",
              "      <td>-1.332593</td>\n",
              "      <td>0.812362</td>\n",
              "      <td>2.507853</td>\n",
              "      <td>3.629061</td>\n",
              "      <td>-0.076526</td>\n",
              "      <td>-0.217447</td>\n",
              "      <td>-0.257826</td>\n",
              "      <td>0.081634</td>\n",
              "      <td>...</td>\n",
              "      <td>0.45257</td>\n",
              "      <td>0.5</td>\n",
              "      <td>-0.342518</td>\n",
              "      <td>-0.241249</td>\n",
              "      <td>-0.762252</td>\n",
              "      <td>1.385535</td>\n",
              "      <td>-0.304789</td>\n",
              "      <td>1.969276</td>\n",
              "      <td>-0.484322</td>\n",
              "      <td>2.380476</td>\n",
              "    </tr>\n",
              "    <tr>\n",
              "      <th>3</th>\n",
              "      <td>-0.210976</td>\n",
              "      <td>-0.464051</td>\n",
              "      <td>-2.227017</td>\n",
              "      <td>2.339065</td>\n",
              "      <td>-0.380269</td>\n",
              "      <td>-0.380023</td>\n",
              "      <td>-0.016220</td>\n",
              "      <td>0.138172</td>\n",
              "      <td>-2.849192</td>\n",
              "      <td>-0.732208</td>\n",
              "      <td>...</td>\n",
              "      <td>0.45257</td>\n",
              "      <td>-2.0</td>\n",
              "      <td>2.919556</td>\n",
              "      <td>-0.241249</td>\n",
              "      <td>1.311903</td>\n",
              "      <td>-0.721743</td>\n",
              "      <td>-0.304789</td>\n",
              "      <td>1.969276</td>\n",
              "      <td>2.064742</td>\n",
              "      <td>2.380476</td>\n",
              "    </tr>\n",
              "    <tr>\n",
              "      <th>4</th>\n",
              "      <td>-0.034728</td>\n",
              "      <td>0.272538</td>\n",
              "      <td>-1.332593</td>\n",
              "      <td>0.812362</td>\n",
              "      <td>-0.380269</td>\n",
              "      <td>-0.524141</td>\n",
              "      <td>-0.619282</td>\n",
              "      <td>-0.288571</td>\n",
              "      <td>0.282042</td>\n",
              "      <td>-0.201441</td>\n",
              "      <td>...</td>\n",
              "      <td>0.45257</td>\n",
              "      <td>0.5</td>\n",
              "      <td>-0.342518</td>\n",
              "      <td>-0.241249</td>\n",
              "      <td>-0.762252</td>\n",
              "      <td>-0.721743</td>\n",
              "      <td>-0.304789</td>\n",
              "      <td>-0.507801</td>\n",
              "      <td>-0.484322</td>\n",
              "      <td>-0.420084</td>\n",
              "    </tr>\n",
              "  </tbody>\n",
              "</table>\n",
              "<p>5 rows × 24 columns</p>\n",
              "</div>\n",
              "      <button class=\"colab-df-convert\" onclick=\"convertToInteractive('df-3aba3aea-5286-4514-9cb2-72855c92bfaf')\"\n",
              "              title=\"Convert this dataframe to an interactive table.\"\n",
              "              style=\"display:none;\">\n",
              "        \n",
              "  <svg xmlns=\"http://www.w3.org/2000/svg\" height=\"24px\"viewBox=\"0 0 24 24\"\n",
              "       width=\"24px\">\n",
              "    <path d=\"M0 0h24v24H0V0z\" fill=\"none\"/>\n",
              "    <path d=\"M18.56 5.44l.94 2.06.94-2.06 2.06-.94-2.06-.94-.94-2.06-.94 2.06-2.06.94zm-11 1L8.5 8.5l.94-2.06 2.06-.94-2.06-.94L8.5 2.5l-.94 2.06-2.06.94zm10 10l.94 2.06.94-2.06 2.06-.94-2.06-.94-.94-2.06-.94 2.06-2.06.94z\"/><path d=\"M17.41 7.96l-1.37-1.37c-.4-.4-.92-.59-1.43-.59-.52 0-1.04.2-1.43.59L10.3 9.45l-7.72 7.72c-.78.78-.78 2.05 0 2.83L4 21.41c.39.39.9.59 1.41.59.51 0 1.02-.2 1.41-.59l7.78-7.78 2.81-2.81c.8-.78.8-2.07 0-2.86zM5.41 20L4 18.59l7.72-7.72 1.47 1.35L5.41 20z\"/>\n",
              "  </svg>\n",
              "      </button>\n",
              "      \n",
              "  <style>\n",
              "    .colab-df-container {\n",
              "      display:flex;\n",
              "      flex-wrap:wrap;\n",
              "      gap: 12px;\n",
              "    }\n",
              "\n",
              "    .colab-df-convert {\n",
              "      background-color: #E8F0FE;\n",
              "      border: none;\n",
              "      border-radius: 50%;\n",
              "      cursor: pointer;\n",
              "      display: none;\n",
              "      fill: #1967D2;\n",
              "      height: 32px;\n",
              "      padding: 0 0 0 0;\n",
              "      width: 32px;\n",
              "    }\n",
              "\n",
              "    .colab-df-convert:hover {\n",
              "      background-color: #E2EBFA;\n",
              "      box-shadow: 0px 1px 2px rgba(60, 64, 67, 0.3), 0px 1px 3px 1px rgba(60, 64, 67, 0.15);\n",
              "      fill: #174EA6;\n",
              "    }\n",
              "\n",
              "    [theme=dark] .colab-df-convert {\n",
              "      background-color: #3B4455;\n",
              "      fill: #D2E3FC;\n",
              "    }\n",
              "\n",
              "    [theme=dark] .colab-df-convert:hover {\n",
              "      background-color: #434B5C;\n",
              "      box-shadow: 0px 1px 3px 1px rgba(0, 0, 0, 0.15);\n",
              "      filter: drop-shadow(0px 1px 2px rgba(0, 0, 0, 0.3));\n",
              "      fill: #FFFFFF;\n",
              "    }\n",
              "  </style>\n",
              "\n",
              "      <script>\n",
              "        const buttonEl =\n",
              "          document.querySelector('#df-3aba3aea-5286-4514-9cb2-72855c92bfaf button.colab-df-convert');\n",
              "        buttonEl.style.display =\n",
              "          google.colab.kernel.accessAllowed ? 'block' : 'none';\n",
              "\n",
              "        async function convertToInteractive(key) {\n",
              "          const element = document.querySelector('#df-3aba3aea-5286-4514-9cb2-72855c92bfaf');\n",
              "          const dataTable =\n",
              "            await google.colab.kernel.invokeFunction('convertToInteractive',\n",
              "                                                     [key], {});\n",
              "          if (!dataTable) return;\n",
              "\n",
              "          const docLinkHtml = 'Like what you see? Visit the ' +\n",
              "            '<a target=\"_blank\" href=https://colab.research.google.com/notebooks/data_table.ipynb>data table notebook</a>'\n",
              "            + ' to learn more about interactive tables.';\n",
              "          element.innerHTML = '';\n",
              "          dataTable['output_type'] = 'display_data';\n",
              "          await google.colab.output.renderOutput(dataTable, element);\n",
              "          const docLink = document.createElement('div');\n",
              "          docLink.innerHTML = docLinkHtml;\n",
              "          element.appendChild(docLink);\n",
              "        }\n",
              "      </script>\n",
              "    </div>\n",
              "  </div>\n",
              "  "
            ]
          },
          "metadata": {},
          "execution_count": 6
        }
      ]
    },
    {
      "cell_type": "markdown",
      "source": [
        "#Model Building"
      ],
      "metadata": {
        "id": "LV6gIPdEG8Oh"
      }
    },
    {
      "cell_type": "code",
      "source": [
        "#Begin with splitting the data into training and test sets\n",
        "from sklearn.model_selection import train_test_split\n",
        "\n",
        "X = scaled_df\n",
        "y = df['Chronic Kidney Disease: yes']\n",
        "\n",
        "X_train, X_test, y_train, y_test = train_test_split(X, y, test_size=0.3, random_state=101)"
      ],
      "metadata": {
        "id": "Dhc5kti3EIif"
      },
      "execution_count": null,
      "outputs": []
    },
    {
      "cell_type": "code",
      "source": [
        "# Fitting our model.\n",
        "\n",
        "from sklearn.neighbors import KNeighborsClassifier\n",
        "\n",
        "knn = KNeighborsClassifier(n_neighbors=1)\n",
        "knn.fit(X_train,y_train)"
      ],
      "metadata": {
        "colab": {
          "base_uri": "https://localhost:8080/"
        },
        "id": "_Uggp2IFEUV5",
        "outputId": "a485a91c-62ad-458c-a110-e9f357e17590"
      },
      "execution_count": null,
      "outputs": [
        {
          "output_type": "execute_result",
          "data": {
            "text/plain": [
              "KNeighborsClassifier(n_neighbors=1)"
            ]
          },
          "metadata": {},
          "execution_count": 8
        }
      ]
    },
    {
      "cell_type": "markdown",
      "source": [
        "#Predictions and Evaluations"
      ],
      "metadata": {
        "id": "sBcvYzbVGuk9"
      }
    },
    {
      "cell_type": "code",
      "source": [
        "predictions = knn.predict(X_test)\n",
        "\n",
        "from sklearn.metrics import classification_report,confusion_matrix\n",
        "print(confusion_matrix(y_test,predictions))"
      ],
      "metadata": {
        "colab": {
          "base_uri": "https://localhost:8080/"
        },
        "id": "q9nt4jn-EZfs",
        "outputId": "909df1ef-ce5d-4b34-ab4f-9861ce792b53"
      },
      "execution_count": null,
      "outputs": [
        {
          "output_type": "stream",
          "name": "stdout",
          "text": [
            "[[39  0]\n",
            " [ 4 77]]\n"
          ]
        }
      ]
    },
    {
      "cell_type": "code",
      "source": [
        "print(classification_report(y_test,predictions))"
      ],
      "metadata": {
        "colab": {
          "base_uri": "https://localhost:8080/"
        },
        "id": "8aMelYEGEdH7",
        "outputId": "56b66c26-1c2c-44cf-f2fe-ea01cb74157f"
      },
      "execution_count": null,
      "outputs": [
        {
          "output_type": "stream",
          "name": "stdout",
          "text": [
            "              precision    recall  f1-score   support\n",
            "\n",
            "         0.0       0.91      1.00      0.95        39\n",
            "         1.0       1.00      0.95      0.97        81\n",
            "\n",
            "    accuracy                           0.97       120\n",
            "   macro avg       0.95      0.98      0.96       120\n",
            "weighted avg       0.97      0.97      0.97       120\n",
            "\n"
          ]
        }
      ]
    },
    {
      "cell_type": "markdown",
      "source": [
        "#Choosing a K Value\n",
        "A major part of building a ML model with KNN, is choosing a K value to improve the performance of our model. Let's go ahead and use the elbow method to do that.\n",
        "\n",
        "We will create a loop that trains various KNN models with different k values, then keep track of the error_rate for each of these models with a list."
      ],
      "metadata": {
        "id": "QX9bymgBGjsd"
      }
    },
    {
      "cell_type": "code",
      "source": [
        "error_rate =[]\n",
        "for i in range(1,50):\n",
        "    knn = KNeighborsClassifier(n_neighbors=i)\n",
        "    knn.fit(X_train,y_train)\n",
        "    predictions = knn.predict(X_test)\n",
        "    error_rate.append(np.mean(predictions != y_test))"
      ],
      "metadata": {
        "id": "_r74glc3EgzE"
      },
      "execution_count": null,
      "outputs": []
    },
    {
      "cell_type": "markdown",
      "source": [
        "Now, to make it easier to see what values of K had lower error rates, we'll create a plot using the information from our for loop."
      ],
      "metadata": {
        "id": "lMukPyEDGRi2"
      }
    },
    {
      "cell_type": "code",
      "source": [
        "plt.figure(figsize=(10,6))\n",
        "plt.plot(range(1,50),error_rate,color='blue', linestyle='dashed', marker='o',\n",
        "         markerfacecolor='red', markersize=10)\n",
        "plt.title('Error Rate vs. K Value')\n",
        "plt.xlabel('K')\n",
        "plt.ylabel('Error Rate')"
      ],
      "metadata": {
        "colab": {
          "base_uri": "https://localhost:8080/",
          "height": 421
        },
        "id": "Z6dptk9zEm7s",
        "outputId": "885a23f2-2fe7-405f-8dd8-319fc9af36a2"
      },
      "execution_count": null,
      "outputs": [
        {
          "output_type": "execute_result",
          "data": {
            "text/plain": [
              "Text(0, 0.5, 'Error Rate')"
            ]
          },
          "metadata": {},
          "execution_count": 15
        },
        {
          "output_type": "display_data",
          "data": {
            "text/plain": [
              "<Figure size 720x432 with 1 Axes>"
            ],
            "image/png": "[encoded data removed]"
          },
          "metadata": {
            "needs_background": "light"
          }
        }
      ]
    }
  ]
}